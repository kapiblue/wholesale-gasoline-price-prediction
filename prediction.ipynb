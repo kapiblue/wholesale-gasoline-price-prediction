{
 "cells": [
  {
   "cell_type": "markdown",
   "metadata": {},
   "source": [
    "# Wholesale Gasoline Price Prediciton"
   ]
  },
  {
   "cell_type": "code",
   "execution_count": 17,
   "metadata": {},
   "outputs": [],
   "source": [
    "import pandas as pd\n",
    "import matplotlib.pyplot as plt"
   ]
  },
  {
   "cell_type": "code",
   "execution_count": 19,
   "metadata": {},
   "outputs": [
    {
     "data": {
      "text/html": [
       "<div>\n",
       "<style scoped>\n",
       "    .dataframe tbody tr th:only-of-type {\n",
       "        vertical-align: middle;\n",
       "    }\n",
       "\n",
       "    .dataframe tbody tr th {\n",
       "        vertical-align: top;\n",
       "    }\n",
       "\n",
       "    .dataframe thead th {\n",
       "        text-align: right;\n",
       "    }\n",
       "</style>\n",
       "<table border=\"1\" class=\"dataframe\">\n",
       "  <thead>\n",
       "    <tr style=\"text-align: right;\">\n",
       "      <th></th>\n",
       "      <th>Date</th>\n",
       "      <th>Price</th>\n",
       "      <th>Excise</th>\n",
       "      <th>Surcharge</th>\n",
       "    </tr>\n",
       "  </thead>\n",
       "  <tbody>\n",
       "    <tr>\n",
       "      <th>0</th>\n",
       "      <td>2022-09-06</td>\n",
       "      <td>5815.0</td>\n",
       "      <td>1413.0</td>\n",
       "      <td>152.61</td>\n",
       "    </tr>\n",
       "    <tr>\n",
       "      <th>1</th>\n",
       "      <td>2022-09-03</td>\n",
       "      <td>5800.0</td>\n",
       "      <td>1413.0</td>\n",
       "      <td>152.61</td>\n",
       "    </tr>\n",
       "    <tr>\n",
       "      <th>2</th>\n",
       "      <td>2022-09-02</td>\n",
       "      <td>5863.0</td>\n",
       "      <td>1413.0</td>\n",
       "      <td>152.61</td>\n",
       "    </tr>\n",
       "    <tr>\n",
       "      <th>3</th>\n",
       "      <td>2022-09-01</td>\n",
       "      <td>5949.0</td>\n",
       "      <td>1413.0</td>\n",
       "      <td>152.61</td>\n",
       "    </tr>\n",
       "    <tr>\n",
       "      <th>4</th>\n",
       "      <td>2022-08-31</td>\n",
       "      <td>5973.0</td>\n",
       "      <td>1413.0</td>\n",
       "      <td>152.61</td>\n",
       "    </tr>\n",
       "  </tbody>\n",
       "</table>\n",
       "</div>"
      ],
      "text/plain": [
       "         Date   Price  Excise  Surcharge\n",
       "0  2022-09-06  5815.0  1413.0     152.61\n",
       "1  2022-09-03  5800.0  1413.0     152.61\n",
       "2  2022-09-02  5863.0  1413.0     152.61\n",
       "3  2022-09-01  5949.0  1413.0     152.61\n",
       "4  2022-08-31  5973.0  1413.0     152.61"
      ]
     },
     "execution_count": 19,
     "metadata": {},
     "output_type": "execute_result"
    }
   ],
   "source": [
    "df = pd.read_csv(\"LOTOS.csv\")\n",
    "df.head()"
   ]
  },
  {
   "cell_type": "code",
   "execution_count": 16,
   "metadata": {},
   "outputs": [
    {
     "data": {
      "text/plain": [
       "Index(['2022-09-06', '2022-09-03', '2022-09-02', '2022-09-01', '2022-08-31',\n",
       "       '2022-08-27', '2022-08-26', '2022-08-25', '2022-08-24', '2022-08-23',\n",
       "       ...\n",
       "       '2004-02-11', '2004-02-06', '2004-02-03', '2004-01-31', '2004-01-24',\n",
       "       '2004-01-21', '2004-01-16', '2004-01-13', '2004-01-08', '2004-01-01'],\n",
       "      dtype='object', name='Date', length=4527)"
      ]
     },
     "execution_count": 16,
     "metadata": {},
     "output_type": "execute_result"
    }
   ],
   "source": [
    "df.index"
   ]
  },
  {
   "cell_type": "code",
   "execution_count": 10,
   "metadata": {},
   "outputs": [
    {
     "name": "stdout",
     "output_type": "stream",
     "text": [
      "<class 'pandas.core.frame.DataFrame'>\n",
      "RangeIndex: 4527 entries, 0 to 4526\n",
      "Data columns (total 5 columns):\n",
      " #   Column      Non-Null Count  Dtype  \n",
      "---  ------      --------------  -----  \n",
      " 0   Unnamed: 0  4527 non-null   int64  \n",
      " 1   Date        4527 non-null   object \n",
      " 2   Price       4527 non-null   float64\n",
      " 3   Excise      4527 non-null   float64\n",
      " 4   Surcharge   4527 non-null   float64\n",
      "dtypes: float64(3), int64(1), object(1)\n",
      "memory usage: 177.0+ KB\n"
     ]
    }
   ],
   "source": [
    "df.info()"
   ]
  },
  {
   "cell_type": "code",
   "execution_count": 9,
   "metadata": {},
   "outputs": [
    {
     "data": {
      "text/html": [
       "<div>\n",
       "<style scoped>\n",
       "    .dataframe tbody tr th:only-of-type {\n",
       "        vertical-align: middle;\n",
       "    }\n",
       "\n",
       "    .dataframe tbody tr th {\n",
       "        vertical-align: top;\n",
       "    }\n",
       "\n",
       "    .dataframe thead th {\n",
       "        text-align: right;\n",
       "    }\n",
       "</style>\n",
       "<table border=\"1\" class=\"dataframe\">\n",
       "  <thead>\n",
       "    <tr style=\"text-align: right;\">\n",
       "      <th></th>\n",
       "      <th>Unnamed: 0</th>\n",
       "      <th>Price</th>\n",
       "      <th>Excise</th>\n",
       "      <th>Surcharge</th>\n",
       "    </tr>\n",
       "  </thead>\n",
       "  <tbody>\n",
       "    <tr>\n",
       "      <th>count</th>\n",
       "      <td>4527.000000</td>\n",
       "      <td>4527.000000</td>\n",
       "      <td>4527.000000</td>\n",
       "      <td>4527.000000</td>\n",
       "    </tr>\n",
       "    <tr>\n",
       "      <th>mean</th>\n",
       "      <td>2263.000000</td>\n",
       "      <td>3733.120168</td>\n",
       "      <td>1528.269052</td>\n",
       "      <td>111.710241</td>\n",
       "    </tr>\n",
       "    <tr>\n",
       "      <th>std</th>\n",
       "      <td>1306.976664</td>\n",
       "      <td>702.738072</td>\n",
       "      <td>65.360465</td>\n",
       "      <td>26.923067</td>\n",
       "    </tr>\n",
       "    <tr>\n",
       "      <th>min</th>\n",
       "      <td>0.000000</td>\n",
       "      <td>2428.000000</td>\n",
       "      <td>1315.000000</td>\n",
       "      <td>79.280000</td>\n",
       "    </tr>\n",
       "    <tr>\n",
       "      <th>25%</th>\n",
       "      <td>1131.500000</td>\n",
       "      <td>3304.000000</td>\n",
       "      <td>1540.000000</td>\n",
       "      <td>87.400000</td>\n",
       "    </tr>\n",
       "    <tr>\n",
       "      <th>50%</th>\n",
       "      <td>2263.000000</td>\n",
       "      <td>3588.000000</td>\n",
       "      <td>1540.000000</td>\n",
       "      <td>103.160000</td>\n",
       "    </tr>\n",
       "    <tr>\n",
       "      <th>75%</th>\n",
       "      <td>3394.500000</td>\n",
       "      <td>4123.000000</td>\n",
       "      <td>1565.000000</td>\n",
       "      <td>131.400000</td>\n",
       "    </tr>\n",
       "    <tr>\n",
       "      <th>max</th>\n",
       "      <td>4526.000000</td>\n",
       "      <td>7521.000000</td>\n",
       "      <td>1565.000000</td>\n",
       "      <td>165.140000</td>\n",
       "    </tr>\n",
       "  </tbody>\n",
       "</table>\n",
       "</div>"
      ],
      "text/plain": [
       "        Unnamed: 0        Price       Excise    Surcharge\n",
       "count  4527.000000  4527.000000  4527.000000  4527.000000\n",
       "mean   2263.000000  3733.120168  1528.269052   111.710241\n",
       "std    1306.976664   702.738072    65.360465    26.923067\n",
       "min       0.000000  2428.000000  1315.000000    79.280000\n",
       "25%    1131.500000  3304.000000  1540.000000    87.400000\n",
       "50%    2263.000000  3588.000000  1540.000000   103.160000\n",
       "75%    3394.500000  4123.000000  1565.000000   131.400000\n",
       "max    4526.000000  7521.000000  1565.000000   165.140000"
      ]
     },
     "execution_count": 9,
     "metadata": {},
     "output_type": "execute_result"
    }
   ],
   "source": [
    "df.describe()"
   ]
  }
 ],
 "metadata": {
  "kernelspec": {
   "display_name": "Python 3.10.4 64-bit",
   "language": "python",
   "name": "python3"
  },
  "language_info": {
   "codemirror_mode": {
    "name": "ipython",
    "version": 3
   },
   "file_extension": ".py",
   "mimetype": "text/x-python",
   "name": "python",
   "nbconvert_exporter": "python",
   "pygments_lexer": "ipython3",
   "version": "3.10.4"
  },
  "orig_nbformat": 4,
  "vscode": {
   "interpreter": {
    "hash": "916dbcbb3f70747c44a77c7bcd40155683ae19c65e1c03b4aa3499c5328201f1"
   }
  }
 },
 "nbformat": 4,
 "nbformat_minor": 2
}
